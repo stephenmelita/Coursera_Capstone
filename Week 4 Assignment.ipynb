{
    "nbformat_minor": 1, 
    "cells": [
        {
            "source": "# Introduction and Business Problem", 
            "cell_type": "markdown", 
            "metadata": {
                "collapsed": true
            }
        }, 
        {
            "source": "Purchasing a property is one of the biggest investment decisions of the average person's life. Choices are overwhelming, and every suburb comes with tradeoffs between location, price and desirability. While most people who buy in their hometown will have a good sense of what different neighbourhoods are like, what about someone who is new to a city and wants a better idea of what a good suburb to invest and/or live in?\n\nWith this in mind, the business problem we are trying to solve, is *\"Where should someone unfamiliar with Melbourne buy a house in metropolitan Melbourne?\"*. This question is relevant for large groups of people looking to purchase property in Melbourne. There are number of elements to this problem, reflecting the different criteria that people looking to purchase property should be considering, for example: \n- What are average property prices in different suburbs?\n- What amenities are available in different suburbs?\n- What are different suburbs \"like\" in terms of character? <br>  \n\nEach of these questions will be explored in this analysis", 
            "cell_type": "markdown", 
            "metadata": {}
        }, 
        {
            "source": "# Data", 
            "cell_type": "markdown", 
            "metadata": {}
        }, 
        {
            "source": "**Australian postcode location data**\n- This data contains latitude and longitude data for each postcode in Australia.\n- This will be needed to plot different suburbs on a map of Melbourne\n- Data source: http://www.corra.com.au/australian-postcode-location-data/<br> <br>  \n\n**Postcode remoteness data**\n- This data contains a remoteness index for each postcode in Melbourne (some postcodes are a mixture of remoteness indices, but we take the index that covers the majority of the postcode for simplicity)\n- We will need this to narrow down our data to metropolitan Melbourne only and remove regional and remote areas\n- https://www.abs.gov.au/AUSSTATS/abs@.nsf/DetailsPage/1270.0.55.005July%202016?OpenDocument <br> <br>  \n\n**House price data by postcode**\n- This data contains recent data on house prices in different suburbs of Melbourne\n- We will need this to append average house prices to add to our analysis\n- https://discover.data.vic.gov.au/dataset/victorian-property-sales-report-median-house-by-suburb  <br> <br>  \n\n**Foursquare API data**\n- The data we will look at contains details of venues that sit within a particular goegoraphical area\n- We will use this data to cluster suburbs with similar characters <br> <br>  ", 
            "cell_type": "markdown", 
            "metadata": {}
        }, 
        {
            "execution_count": null, 
            "cell_type": "code", 
            "metadata": {}, 
            "outputs": [], 
            "source": ""
        }
    ], 
    "metadata": {
        "kernelspec": {
            "display_name": "Python 3.6", 
            "name": "python3", 
            "language": "python"
        }, 
        "language_info": {
            "mimetype": "text/x-python", 
            "nbconvert_exporter": "python", 
            "version": "3.6.8", 
            "name": "python", 
            "file_extension": ".py", 
            "pygments_lexer": "ipython3", 
            "codemirror_mode": {
                "version": 3, 
                "name": "ipython"
            }
        }
    }, 
    "nbformat": 4
}