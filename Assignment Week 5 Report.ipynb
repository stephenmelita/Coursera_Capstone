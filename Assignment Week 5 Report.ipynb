{
 "cells": [
  {
   "cell_type": "markdown",
   "metadata": {},
   "source": [
    "# Introduction and Business Problem\n",
    "\n",
    "Purchasing a property is one of the biggest investment decisions of the average person's life. Choices are overwhelming, and every suburb comes with tradeoffs between location, price and desirability. While most people who buy in their hometown will have a good sense of what different neighbourhoods are like, what about someone who is new to a city and wants a better idea of what a good suburb to invest and/or live in?\n",
    "\n",
    "With this in mind, the business problem we are trying to solve, is \"Where should someone unfamiliar with Melbourne buy a house in metropolitan Melbourne?\". This question is relevant for large groups of people looking to purchase property in Melbourne. There are number of elements to this problem, reflecting the different criteria that people looking to purchase property should be considering, for example:\n",
    "\n",
    "- What are average property prices in different suburbs?\n",
    "- What amenities are available in different suburbs?\n",
    "- What are different suburbs \"like\" in terms of character?\n",
    "- What are some of the drivers of property prices?\n",
    "\n",
    "Each of these questions will be explored in this analysis\n"
   ]
  },
  {
   "cell_type": "markdown",
   "metadata": {},
   "source": [
    "# Data\n",
    "\n",
    "#### Australian postcode location data\n",
    "- This data contains latitude and longitude data for each postcode in Australia.\n",
    "- This will be needed to plot different suburbs on a map of Melbourne\n",
    "- Data source: http://www.corra.com.au/australian-postcode-location-data/\n",
    "\n",
    "#### Postcode remoteness data\n",
    "- This data contains a remoteness index for each postcode in Melbourne (some postcodes are a mixture of remoteness indices, but we take the index that covers the majority of the postcode for simplicity)\n",
    "- We will need this to narrow down our data to metropolitan Melbourne only and remove regional and remote areas\n",
    "- Data source: https://www.abs.gov.au/AUSSTATS/abs@.nsf/DetailsPage/1270.0.55.005July%202016?OpenDocument\n",
    "    \n",
    "#### House price data by postcode\n",
    "- This data contains recent data on house prices in different suburbs of Melbourne\n",
    "- We will need this to append average house prices to add to our analysis\n",
    "- Data source: https://discover.data.vic.gov.au/dataset/victorian-property-sales-report-median-house-by-suburb\n",
    "\n",
    "#### Suburb geojson files\n",
    "- This data contains suburb boundaries for each suburb of Australia \n",
    "- This will allow us to create a choropleth map of Melbourne\n",
    "- Data source: https://github.com/tonywr71/GeoJson-Data/blob/master/australian-suburbs.geojson\n",
    "\n",
    "#### Foursquare API data\n",
    "- The data we will look at contains details of venues that sit within a particular goegoraphical area\n",
    "- We will use this data to cluster suburbs with similar characters\n"
   ]
  },
  {
   "cell_type": "markdown",
   "metadata": {},
   "source": [
    "# Methodology\n",
    "represents the main component of the report where you discuss and describe any exploratory data analysis that you did, any inferential statistical testing that you performed, if any, and what machine learnings were used and why.\n",
    "\n",
    "#### Suburbs and House Prices\n",
    "- We start with Australian postcode location data, containing latitude and longitude for each postcode and suburb, and import this into a dataframe\n",
    "- We  then join onto this dataset a dataset containing the remoteness index for each postcode. As some postcodes are split between multiple categories of remoteness and are allocated onto percentages, we have pre-processed this data and taken whichever category covers the largest proportion of the postcode\n",
    "- We then use this data to filter for postcodes categorised as \"Metropolitan Victoria\" only\n",
    "- We then join on a separate data source containing house price information for each suburb\n",
    "\n",
    "#### Determinants of House Price - Distance?\n",
    "- We then create a map showing the location of each suburb\n",
    "- We import a json file containing shapes and locations of each suburb - this had to be manually edited in a json editor as the notebook cannot handle too many shapes in one go\n",
    "- We then use the joined house price information to create a choropleth map colouring more expensive suburbs in a darker colour\n",
    "- From the map, there seems to be a negative relationship between distance to the city centre and house prices\n",
    "- We define a function that will calculate the distance in km from the suburb centre to the Melbourne city centre, and add this as a new field in the dataframe\n",
    "- Correlation analysis shows a moderate correlation between distance and house prices\n",
    "- We then run regression analysis to test the strength of the relationship\n",
    "- Simple linear regression trained with a train sample of the data (R^2 = 0.24) does not perform well under test data (R^2 = 0.16)\n",
    "- Running polynomial regression with degree 2 performs performing better than the linear model under train (R^2 = 0.37), and under test (R^2 = 0.31). However, there is a pattern in the residuals, and it is likely that the presence of another city centre (Geelong) is likely skewing the data\n",
    "\n",
    "#### Venues\n",
    "- We use the Foursquare API to call venues data for each suburb, and store it in a dataframe\n",
    "- In order for this not to be repeated each time we load the notebook (limited calls), we save this as a csv, change the API call code to a comment, and write code to load the csv next time\n",
    "- We group the data by venue type and sort largest to smallest to see the most common venue types in Melbourne\n",
    "- We then use the get_dummies function on the venue type field to see how common each type is in each suburb. \n",
    "- We then create a new dataframe and run a customised loop which displays the top 10 venue types for each suburb (or if there are less than ten venue types, it stops when there are no venue types left in that suburb)\n",
    "- This dataframe allows us to look at each suburb and see what the most common venue types are in each suburb\n",
    "\n",
    "#### Other Determinants of House Price \n",
    "- We now can test for the relationship between the number of particular types of common venues \n",
    "- We start with cafes: we create a dataframe with each suburb, house prices, and the number of cafes (we have also included coffee shops)\n",
    "- We run regression but the R^2 is too low to confirm a positive relationship between them\n",
    "- We perform similar regression with bakeries and grocery stores, but again, no relationship can be shown to exist (low R^2)\n",
    "\n",
    "#### Clustering\n",
    "- In order to get a better sense of different suburb characteristics, we now cluster them together\n",
    "- We use the dummied venue data as the input dataset for the k-means clustering (we are clustering based on the venues in each suburb)\n",
    "- We test k = 1 to 10 and plot the distortion to try and use the elbow method to find the optimal k, but there is no clear result\n",
    "- We try the silhouette score method to test for the optimal k instead.\n",
    "- We choose 6 as the best k\n",
    "- We use K-means clustering to group up similar suburbs based on suburb venues\n",
    "- We add the cluster labels onto the existing datasets\n",
    "- We then map the clusters on a simple map of Melbourne\n",
    "- We then run a similar function as the top 10 venue types in each suburb, but this time we show the top 5 venue types in each cluster (or less if there are less than 5 venue types in the cluster)\n",
    "- We then can run further exploratory analysis on the clusters such as (example in notebook is cluster 5)\n",
    "        - Which suburbs are in each cluster?\n",
    "        - What is the average distance of each suburb in each clutster\n",
    "        - How many of each venue type are there in each cluster?\n",
    "- Using this information, we name the clusters\n",
    "\n"
   ]
  },
  {
   "cell_type": "markdown",
   "metadata": {},
   "source": [
    "# Results section\n",
    "\n",
    "- Moderate relationship between suburb house price and distance to city centre. This is clear from the map. However, regression relationship wasn't strong\n",
    "- No strong relationship between the number of cafes and suburb house prices\n",
    "- No strong relationship between the number of grocery stores and suburb prices\n",
    "- No strong relationship between the number of bakeries and suburb prices\n",
    "- 6 distinct types of suburbs were identified\n",
    "        - Pizza and Food\n",
    "        - Parks and Nature\n",
    "        - Other\n",
    "        - Cafes and Shopping\n",
    "        - Accessible Inner Suburbs\n",
    "        - Accessible Outer Suburbs"
   ]
  },
  {
   "cell_type": "markdown",
   "metadata": {},
   "source": [
    "# Discussion and Conclusion\n",
    "- This analysis provides useful information for someone considering purchasing a property in Melbourne\n",
    "- Data allows for exploration of the types of venues in each suburb, as well as details on house prices\n",
    "- A number of further analysis could be undertaken which may provide useful insight:\n",
    "        - Time-series analysis of suburb price over time (this is available in the data)\n",
    "        - Polynomial regression of multiple venue types and suburb house prices, or even simple linear regression of the total number of venues in the suburb\n",
    "        - Clustering based on other suburb characteristics, such as location, crime rate, etc.\n",
    "        - Removing Geelong data and re-running existing analysis may prove useful, as this likely distorted some findings, particularly the regression analyses."
   ]
  },
  {
   "cell_type": "code",
   "execution_count": null,
   "metadata": {},
   "outputs": [],
   "source": []
  }
 ],
 "metadata": {
  "kernelspec": {
   "display_name": "Python",
   "language": "python",
   "name": "conda-env-python-py"
  },
  "language_info": {
   "codemirror_mode": {
    "name": "ipython",
    "version": 3
   },
   "file_extension": ".py",
   "mimetype": "text/x-python",
   "name": "python",
   "nbconvert_exporter": "python",
   "pygments_lexer": "ipython3",
   "version": "3.6.7"
  }
 },
 "nbformat": 4,
 "nbformat_minor": 4
}
